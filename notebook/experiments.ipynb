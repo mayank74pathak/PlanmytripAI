{
 "cells": [
  {
   "cell_type": "code",
   "execution_count": 1,
   "id": "6396b4b2",
   "metadata": {},
   "outputs": [
    {
     "name": "stdout",
     "output_type": "stream",
     "text": [
      "ok\n"
     ]
    }
   ],
   "source": [
    "print(\"ok\")"
   ]
  },
  {
   "cell_type": "code",
   "execution_count": 6,
   "id": "0e12eace",
   "metadata": {},
   "outputs": [
    {
     "name": "stdout",
     "output_type": "stream",
     "text": [
      "Unexpected exception formatting exception. Falling back to standard exception\n"
     ]
    },
    {
     "name": "stderr",
     "output_type": "stream",
     "text": [
      "Traceback (most recent call last):\n",
      "  File \"/Users/mayankpathak/Desktop/mlops/mlflow1/venv/lib/python3.10/site-packages/IPython/core/interactiveshell.py\", line 3579, in run_code\n",
      "  File \"/var/folders/lc/9ckz_dfx1_bf9zb99q73v2500000gn/T/ipykernel_7276/365574000.py\", line 1, in <module>\n",
      "    from dotenv import load_dotenv\n",
      "ModuleNotFoundError: No module named 'dotenv'\n",
      "\n",
      "During handling of the above exception, another exception occurred:\n",
      "\n",
      "Traceback (most recent call last):\n",
      "  File \"/Users/mayankpathak/Desktop/mlops/mlflow1/venv/lib/python3.10/site-packages/IPython/core/interactiveshell.py\", line 2170, in showtraceback\n",
      "  File \"/Users/mayankpathak/Desktop/mlops/mlflow1/venv/lib/python3.10/site-packages/IPython/core/ultratb.py\", line 1457, in structured_traceback\n",
      "  File \"/Users/mayankpathak/Desktop/mlops/mlflow1/venv/lib/python3.10/site-packages/IPython/core/ultratb.py\", line 1348, in structured_traceback\n",
      "  File \"/Users/mayankpathak/Desktop/mlops/mlflow1/venv/lib/python3.10/site-packages/IPython/core/ultratb.py\", line 1195, in structured_traceback\n",
      "  File \"/Users/mayankpathak/Desktop/mlops/mlflow1/venv/lib/python3.10/site-packages/IPython/core/ultratb.py\", line 1110, in format_exception_as_a_whole\n",
      "  File \"/Users/mayankpathak/Desktop/mlops/mlflow1/venv/lib/python3.10/site-packages/IPython/core/ultratb.py\", line 992, in format_record\n",
      "  File \"/Users/mayankpathak/Desktop/mlops/mlflow1/venv/lib/python3.10/site-packages/IPython/core/ultratb.py\", line 804, in lines\n",
      "  File \"/Users/mayankpathak/Desktop/mlops/mlflow1/venv/lib/python3.10/site-packages/stack_data/utils.py\", line 145, in cached_property_wrapper\n",
      "  File \"/Users/mayankpathak/Desktop/mlops/mlflow1/venv/lib/python3.10/site-packages/stack_data/core.py\", line 734, in lines\n",
      "  File \"/Users/mayankpathak/Desktop/mlops/mlflow1/venv/lib/python3.10/site-packages/stack_data/utils.py\", line 145, in cached_property_wrapper\n",
      "  File \"/Users/mayankpathak/Desktop/mlops/mlflow1/venv/lib/python3.10/site-packages/stack_data/core.py\", line 677, in included_pieces\n",
      "  File \"/Users/mayankpathak/Desktop/mlops/mlflow1/venv/lib/python3.10/site-packages/stack_data/utils.py\", line 145, in cached_property_wrapper\n",
      "  File \"/Users/mayankpathak/Desktop/mlops/mlflow1/venv/lib/python3.10/site-packages/stack_data/core.py\", line 614, in scope_pieces\n",
      "  File \"/Users/mayankpathak/Desktop/mlops/mlflow1/venv/lib/python3.10/site-packages/stack_data/core.py\", line 178, in line_range\n",
      "AttributeError: 'Source' object has no attribute 'asttext'. Did you mean: 'lineno'?\n"
     ]
    }
   ],
   "source": [
    "from dotenv import load_dotenv"
   ]
  },
  {
   "cell_type": "code",
   "execution_count": 17,
   "id": "f6714225",
   "metadata": {},
   "outputs": [
    {
     "name": "stdout",
     "output_type": "stream",
     "text": [
      "Unexpected exception formatting exception. Falling back to standard exception\n"
     ]
    },
    {
     "name": "stderr",
     "output_type": "stream",
     "text": [
      "Traceback (most recent call last):\n",
      "  File \"/Users/mayankpathak/Desktop/mlops/mlflow1/venv/lib/python3.10/site-packages/IPython/core/interactiveshell.py\", line 3579, in run_code\n",
      "    exec(code_obj, self.user_global_ns, self.user_ns)\n",
      "  File \"/var/folders/lc/9ckz_dfx1_bf9zb99q73v2500000gn/T/ipykernel_6367/622144512.py\", line 1, in <module>\n",
      "    from langchain_groq import ChatGroq\n",
      "ModuleNotFoundError: No module named 'langchain_groq'\n",
      "\n",
      "During handling of the above exception, another exception occurred:\n",
      "\n",
      "Traceback (most recent call last):\n",
      "  File \"/Users/mayankpathak/Desktop/mlops/mlflow1/venv/lib/python3.10/site-packages/IPython/core/interactiveshell.py\", line 2170, in showtraceback\n",
      "    stb = self.InteractiveTB.structured_traceback(\n",
      "  File \"/Users/mayankpathak/Desktop/mlops/mlflow1/venv/lib/python3.10/site-packages/IPython/core/ultratb.py\", line 1457, in structured_traceback\n",
      "    return FormattedTB.structured_traceback(\n",
      "  File \"/Users/mayankpathak/Desktop/mlops/mlflow1/venv/lib/python3.10/site-packages/IPython/core/ultratb.py\", line 1348, in structured_traceback\n",
      "    return VerboseTB.structured_traceback(\n",
      "  File \"/Users/mayankpathak/Desktop/mlops/mlflow1/venv/lib/python3.10/site-packages/IPython/core/ultratb.py\", line 1195, in structured_traceback\n",
      "    formatted_exception = self.format_exception_as_a_whole(etype, evalue, etb, number_of_lines_of_context,\n",
      "  File \"/Users/mayankpathak/Desktop/mlops/mlflow1/venv/lib/python3.10/site-packages/IPython/core/ultratb.py\", line 1110, in format_exception_as_a_whole\n",
      "    frames.append(self.format_record(record))\n",
      "  File \"/Users/mayankpathak/Desktop/mlops/mlflow1/venv/lib/python3.10/site-packages/IPython/core/ultratb.py\", line 992, in format_record\n",
      "    frame_info.lines, Colors, self.has_colors, lvals\n",
      "  File \"/Users/mayankpathak/Desktop/mlops/mlflow1/venv/lib/python3.10/site-packages/IPython/core/ultratb.py\", line 804, in lines\n",
      "    return self._sd.lines\n",
      "  File \"/Users/mayankpathak/Desktop/mlops/mlflow1/venv/lib/python3.10/site-packages/stack_data/utils.py\", line 145, in cached_property_wrapper\n",
      "    value = obj.__dict__[self.func.__name__] = self.func(obj)\n",
      "  File \"/Users/mayankpathak/Desktop/mlops/mlflow1/venv/lib/python3.10/site-packages/stack_data/core.py\", line 734, in lines\n",
      "    pieces = self.included_pieces\n",
      "  File \"/Users/mayankpathak/Desktop/mlops/mlflow1/venv/lib/python3.10/site-packages/stack_data/utils.py\", line 145, in cached_property_wrapper\n",
      "    value = obj.__dict__[self.func.__name__] = self.func(obj)\n",
      "  File \"/Users/mayankpathak/Desktop/mlops/mlflow1/venv/lib/python3.10/site-packages/stack_data/core.py\", line 677, in included_pieces\n",
      "    scope_pieces = self.scope_pieces\n",
      "  File \"/Users/mayankpathak/Desktop/mlops/mlflow1/venv/lib/python3.10/site-packages/stack_data/utils.py\", line 145, in cached_property_wrapper\n",
      "    value = obj.__dict__[self.func.__name__] = self.func(obj)\n",
      "  File \"/Users/mayankpathak/Desktop/mlops/mlflow1/venv/lib/python3.10/site-packages/stack_data/core.py\", line 614, in scope_pieces\n",
      "    scope_start, scope_end = self.source.line_range(self.scope)\n",
      "  File \"/Users/mayankpathak/Desktop/mlops/mlflow1/venv/lib/python3.10/site-packages/stack_data/core.py\", line 178, in line_range\n",
      "    return line_range(self.asttext(), node)\n",
      "AttributeError: 'Source' object has no attribute 'asttext'. Did you mean: 'lineno'?\n"
     ]
    }
   ],
   "source": [
    "from langchain_groq import ChatGroq"
   ]
  }
 ],
 "metadata": {
  "kernelspec": {
   "display_name": "Python 3",
   "language": "python",
   "name": "python3"
  },
  "language_info": {
   "codemirror_mode": {
    "name": "ipython",
    "version": 3
   },
   "file_extension": ".py",
   "mimetype": "text/x-python",
   "name": "python",
   "nbconvert_exporter": "python",
   "pygments_lexer": "ipython3",
   "version": "3.10.0"
  }
 },
 "nbformat": 4,
 "nbformat_minor": 5
}
